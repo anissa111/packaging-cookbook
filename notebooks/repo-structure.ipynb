{
 "cells": [
  {
   "cell_type": "markdown",
   "metadata": {},
   "source": [
    "Let's start here! If you can directly link to an image relevant to your notebook, such as [canonical logos](https://github.com/numpy/numpy/blob/main/doc/source/_static/numpylogo.svg), do so here at the top of your notebook. You can do this with Markdown syntax,\n",
    "\n",
    "> `![<image title>](http://link.com/to/image.png \"image alt text\")`\n",
    "\n",
    "or edit this cell to see raw HTML `img` demonstration. This is preferred if you need to shrink your embedded image. **Either way be sure to include `alt` text for any embedded images to make your content more accessible.**\n",
    "\n",
    "<img src=\"images/ProjectPythia_Logo_Final-01-Blue.svg\" width=250 alt=\"Project Pythia Logo\"></img>"
   ]
  },
  {
   "attachments": {},
   "cell_type": "markdown",
   "metadata": {},
   "source": [
    "# How to make your repository package ready"
   ]
  },
  {
   "cell_type": "markdown",
   "metadata": {},
   "source": [
    "---"
   ]
  },
  {
   "attachments": {},
   "cell_type": "markdown",
   "metadata": {},
   "source": [
    "## Overview\n",
    "If you have an introductory paragraph, lead with it here! Keep it short and tied to your material, then be sure to continue into the required list of topics below,\n",
    "\n",
    "1. structure of a package repository\n",
    "    1. folder structure\n",
    "    1. __init__.py\n",
    "1. setup.py\n",
    "1. pyproject.toml\n",
    "1. gitignore and templates\n"
   ]
  },
  {
   "attachments": {},
   "cell_type": "markdown",
   "metadata": {},
   "source": [
    "## Prerequisites\n",
    "\n",
    "| Concepts | Importance | Notes |\n",
    "| --- | --- | --- |\n",
    "| [Getting Started with Github](https://foundations.projectpythia.org/foundations/getting-started-github.html) | Necessary | |\n",
    "\n",
    "- **Time to learn**: estimate in minutes. For a rough idea, use 5 mins per subsection, 10 if longer; add these up for a total. Safer to round up and overestimate."
   ]
  },
  {
   "cell_type": "markdown",
   "metadata": {},
   "source": [
    "---"
   ]
  },
  {
   "attachments": {},
   "cell_type": "markdown",
   "metadata": {},
   "source": [
    "## Restructuring your repository\n",
    "Assume you have a few files that you'd like to make available as a package. The files in your program are file_1.py and file_2.py and are in a GitHub repository called \"my_package\". The repository is structured as follows:\n",
    "    \n",
    "``` bash\n",
    "    my_package/\n",
    "    ├── file_1.py\n",
    "    ├── file_2.py\n",
    "```\n",
    "\n",
    "First, make a directory inside of your repository called `my_package`. This directory will contain all the files that will included in your package. It's okay if the name of your repository and the name of your package are the same.\n",
    "\n",
    "``` bash\n",
    "    my_package/\n",
    "    ├── my_package/\n",
    "    │   ├── __init__.py\n",
    "    │   ├── file_1.py\n",
    "    │   └── file_2.py\n",
    "```\n"
   ]
  },
  {
   "attachments": {},
   "cell_type": "markdown",
   "metadata": {},
   "source": [
    "\n",
    "## Additional files\n",
    "Next, you'll need to add a few additional files in order to use your code as a package. \n",
    "\n",
    "### `__init__.py`\n",
    "`__init__.py` is a file required in your package directory (`my_package` in this case). This file will allow you to import your package as a module. For this package it can be blank, but it does need to be present. \n",
    "\n",
    "### `setup.py`\n",
    "`setup.py` contains information about your package. For example, a minimal `setup.py` for this package could look like:\n",
    "    \n",
    "``` python\n",
    "\n",
    "    from setuptools import setup, find_packages\n",
    "\n",
    "    setup(\n",
    "        name=\"my_package\",\n",
    "        version=\"0.1\",\n",
    "        packages=find_packages(include=['my_package']),\n",
    "    )\n",
    "```\n",
    "\n",
    "### `requirements.txt`"
   ]
  },
  {
   "cell_type": "markdown",
   "metadata": {},
   "source": [
    "## Optional, but highly, recommended additional files\n",
    "### `.gitingore`\n",
    "### `pyproject.toml`\n",
    "### `LICENSE`\n",
    "### `README.md`\n"
   ]
  },
  {
   "cell_type": "markdown",
   "metadata": {},
   "source": [
    "---"
   ]
  },
  {
   "cell_type": "markdown",
   "metadata": {},
   "source": [
    "## Summary\n",
    "Add one final `---` marking the end of your body of content, and then conclude with a brief single paragraph summarizing at a high level the key pieces that were learned and how they tied to your objectives. Look to reiterate what the most important takeaways were.\n",
    "\n",
    "### What's next?\n",
    "Let Jupyter book tie this to the next (sequential) piece of content that people could move on to down below and in the sidebar. However, if this page uniquely enables your reader to tackle other nonsequential concepts throughout this book, or even external content, link to it here!"
   ]
  },
  {
   "attachments": {},
   "cell_type": "markdown",
   "metadata": {},
   "source": [
    "## Resources and references\n",
    "Finally, be rigorous in your citations and references as necessary. Give credit where credit is due. Also, feel free to link to relevant external material, further reading, documentation, etc. Then you're done! Give yourself a quick review, a high five, and send us a pull request. A few final notes:\n",
    "- https://godatadriven.com/blog/a-practical-guide-to-using-setup-py/\n",
    "- https://python-packaging-tutorial.readthedocs.io/en/latest/setup_py.html\n",
    "- https://the-hitchhikers-guide-to-packaging.readthedocs.io/en/latest/quickstart.html\n",
    "\n",
    "Thank you for your contribution!"
   ]
  },
  {
   "cell_type": "markdown",
   "metadata": {},
   "source": []
  }
 ],
 "metadata": {
  "kernelspec": {
   "display_name": "Python 3",
   "language": "python",
   "name": "python3"
  },
  "language_info": {
   "codemirror_mode": {
    "name": "ipython",
    "version": 3
   },
   "file_extension": ".py",
   "mimetype": "text/x-python",
   "name": "python",
   "nbconvert_exporter": "python",
   "pygments_lexer": "ipython3",
   "version": "3.10.8 (main, Oct 13 2022, 10:18:28) [Clang 13.0.0 (clang-1300.0.29.30)]"
  },
  "nbdime-conflicts": {
   "local_diff": [
    {
     "diff": [
      {
       "diff": [
        {
         "key": 0,
         "op": "addrange",
         "valuelist": [
          "Python 3"
         ]
        },
        {
         "key": 0,
         "length": 1,
         "op": "removerange"
        }
       ],
       "key": "display_name",
       "op": "patch"
      }
     ],
     "key": "kernelspec",
     "op": "patch"
    }
   ],
   "remote_diff": [
    {
     "diff": [
      {
       "diff": [
        {
         "key": 0,
         "op": "addrange",
         "valuelist": [
          "Python3"
         ]
        },
        {
         "key": 0,
         "length": 1,
         "op": "removerange"
        }
       ],
       "key": "display_name",
       "op": "patch"
      }
     ],
     "key": "kernelspec",
     "op": "patch"
    }
   ]
  },
  "toc-autonumbering": false,
  "vscode": {
   "interpreter": {
    "hash": "aee8b7b246df8f9039afb4144a1f6fd8d2ca17a180786b69acc140d282b71a49"
   }
  }
 },
 "nbformat": 4,
 "nbformat_minor": 4
}
